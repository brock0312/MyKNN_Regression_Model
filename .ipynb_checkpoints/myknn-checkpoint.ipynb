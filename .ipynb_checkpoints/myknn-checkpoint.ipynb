{
 "cells": [
  {
   "cell_type": "code",
   "execution_count": 3,
   "metadata": {},
   "outputs": [],
   "source": [
    "#import necessary libraries\n",
    "import pandas as pd\n",
    "import numpy as np\n",
    "from numpy import * \n",
    "from math import sqrt"
   ]
  },
  {
   "cell_type": "markdown",
   "metadata": {},
   "source": [
    "# Construct myknn_regressor "
   ]
  },
  {
   "cell_type": "code",
   "execution_count": 52,
   "metadata": {},
   "outputs": [],
   "source": [
    "class myknn_regressor():\n",
    "    def __init__(self,k,function): # setup the k and a threshold(default 10) to remove outliers\n",
    "        self.k = k\n",
    "        self.function = function\n",
    "        if k < 10 : \n",
    "            self.function = False # we don't filter out the outliers if k < 10\n",
    "    \n",
    "    def fit(self,x_train,y_train): # traning data fitting\n",
    "        self.x_train = x_train\n",
    "        self.y_train = y_train\n",
    "        return self\n",
    "                \n",
    "    def predict(self,x_test):  # prediction model\n",
    "        self.x = x_test\n",
    "        total_dist=[]\n",
    "        \n",
    "        # Calculate each point in the test data based on Euclidean distance and store it in the list of total distances\n",
    "        for i in range(len(self.x)):     \n",
    "            dist = [sqrt(sum((self.x[i] - self.x_train[j])** 2)) for j in range(len(self.x_train))]\n",
    "            total_dist.append(dist)\n",
    "        near = np.argsort(total_dist) # sort datapoints from closest to furthest distance\n",
    "        k_neighbors = [self.y_train[i][:self.k] for i in near] # select the k-nearest-neighbors\n",
    "        k_neighbors = np.array(k_neighbors) \n",
    "        \n",
    "        if self.function == 'remove_outliers': # remove outlier settings\n",
    "            Y_predict = [ ]\n",
    "            for n in range(len(k_neighbors)): # Perform outlier identification on k-neighbors and calculate based on the 1.5 interquartile range\n",
    "                Q = np.percentile(k_neighbors[n],(25,75)) \n",
    "                Q1,Q3 = (Q[0],Q[1])\n",
    "                IQR = Q3-Q1\n",
    "                Min = Q1 - 1.5*IQR\n",
    "                Max = Q3 + 1.5*IQR\n",
    "                check = [True if i >= Min and i <= Max else False for i in k_neighbors[n]] # mark false when there's outlier\n",
    "                k = check.count(True) # Calculate the number of standard values\n",
    "                predict = k_neighbors[n][check].sum()/k \n",
    "                Y_predict.append(predict)\n",
    "            Y_predict = np.array(Y_predict) \n",
    "        else: \n",
    "            Y_predict = k_neighbors.sum(axis=1)/self.k \n",
    "            Y_predict = np.array(Y_predict)                            \n",
    "        return Y_predict\n"
   ]
  },
  {
   "cell_type": "markdown",
   "metadata": {},
   "source": [
    "To test the regressor, load data from msd_data1.pickle. Before training a KNN model, I standardized all feature values so that all features have a zero mean and a unit variance.\n",
    "\n",
    "Firstly make predictions using k=20 and \"equal_weight\" method."
   ]
  },
  {
   "cell_type": "code",
   "execution_count": 71,
   "metadata": {},
   "outputs": [],
   "source": [
    "df = pd.read_pickle('msd_data1.pickle')\n",
    "X_train = df['X_train']\n",
    "Y_train = df['Y_train']\n",
    "X_test = df['X_test']\n",
    "Y_test = df['Y_test']\n",
    "\n",
    "# Standardize the data\n",
    "\n",
    "mu = np.mean(X_train,axis = 0)\n",
    "std = np.std(X_train,axis = 0)\n",
    "X_train = (X_train-mu)/std\n",
    "\n",
    "X_test = (X_test-mu)/std\n",
    "\n",
    "\n",
    "# RMSE(Root Mean Squared Error) function \n",
    "def RMSE(ypred,y_test):\n",
    "    rmse = sqrt(sum((ypred - y_test)**2)/len(ypred))\n",
    "    return rmse\n",
    "\n",
    "# Evaluate the precision\n",
    "def precision(ypred):\n",
    "    count = 0 \n",
    "    for i in range(len(ypred)):\n",
    "        if ypred[i] == Y_test[i]:\n",
    "            count += 1\n",
    "    return count/len(ypred)        "
   ]
  },
  {
   "cell_type": "code",
   "execution_count": 79,
   "metadata": {},
   "outputs": [],
   "source": [
    "myknn = myknn_regressor(20,'equal_weight')\n",
    "myknn.fit(X_train, Y_train)\n",
    "ypred = myknn.predict(X_test)"
   ]
  },
  {
   "cell_type": "code",
   "execution_count": 80,
   "metadata": {},
   "outputs": [
    {
     "data": {
      "text/plain": [
       "10.25126451549596"
      ]
     },
     "execution_count": 80,
     "metadata": {},
     "output_type": "execute_result"
    }
   ],
   "source": [
    "RMSE(ypred,Y_test)"
   ]
  },
  {
   "cell_type": "markdown",
   "metadata": {},
   "source": [
    "### Predictions using equal weight method."
   ]
  },
  {
   "cell_type": "code",
   "execution_count": 81,
   "metadata": {},
   "outputs": [
    {
     "data": {
      "text/plain": [
       "array([1993., 1994., 2001., 1992., 1993., 1998., 1988., 1992., 2002.,\n",
       "       2003., 2000., 1999., 1996., 1997., 1995., 1997., 1992., 2000.,\n",
       "       2003., 1996.])"
      ]
     },
     "execution_count": 81,
     "metadata": {},
     "output_type": "execute_result"
    }
   ],
   "source": [
    "# the outcome should be rounded\n",
    "ypred  = around(ypred[:20])\n",
    "ypred"
   ]
  },
  {
   "cell_type": "code",
   "execution_count": 82,
   "metadata": {},
   "outputs": [
    {
     "data": {
      "text/plain": [
       "0.05"
      ]
     },
     "execution_count": 82,
     "metadata": {},
     "output_type": "execute_result"
    }
   ],
   "source": [
    "precision(ypred)\n"
   ]
  },
  {
   "cell_type": "markdown",
   "metadata": {},
   "source": [
    "### Predictions using remove outier method."
   ]
  },
  {
   "cell_type": "code",
   "execution_count": 83,
   "metadata": {},
   "outputs": [],
   "source": [
    "myknn = myknn_regressor(20, \"remove_outliers\")\n",
    "myknn.fit(X_train, Y_train)\n",
    "ypred = myknn.predict(X_test)"
   ]
  },
  {
   "cell_type": "code",
   "execution_count": 84,
   "metadata": {},
   "outputs": [
    {
     "data": {
      "text/plain": [
       "10.212572466080376"
      ]
     },
     "execution_count": 84,
     "metadata": {},
     "output_type": "execute_result"
    }
   ],
   "source": [
    "RMSE(ypred,Y_test)"
   ]
  },
  {
   "cell_type": "code",
   "execution_count": 85,
   "metadata": {},
   "outputs": [
    {
     "data": {
      "text/plain": [
       "array([1993., 1994., 2001., 1993., 1993., 2000., 1988., 1992., 2002.,\n",
       "       2004., 2000., 2001., 1996., 1997., 1999., 1997., 1992., 2004.,\n",
       "       2003., 1996.])"
      ]
     },
     "execution_count": 85,
     "metadata": {},
     "output_type": "execute_result"
    }
   ],
   "source": [
    "ypred  = around(ypred[:20])\n",
    "ypred"
   ]
  },
  {
   "cell_type": "code",
   "execution_count": 86,
   "metadata": {},
   "outputs": [
    {
     "data": {
      "text/plain": [
       "0.05"
      ]
     },
     "execution_count": 86,
     "metadata": {},
     "output_type": "execute_result"
    }
   ],
   "source": [
    "precision(ypred)"
   ]
  },
  {
   "cell_type": "markdown",
   "metadata": {},
   "source": [
    "### Observation"
   ]
  },
  {
   "cell_type": "code",
   "execution_count": 90,
   "metadata": {},
   "outputs": [],
   "source": [
    "# import knn regressor from scikit learn\n",
    "from sklearn.neighbors import KNeighborsRegressor\n",
    "import matplotlib.pyplot as plt\n"
   ]
  },
  {
   "cell_type": "markdown",
   "metadata": {},
   "source": [
    "Plot the RMSE values for 3 cases, and compare the performances."
   ]
  },
  {
   "cell_type": "code",
   "execution_count": 88,
   "metadata": {},
   "outputs": [],
   "source": [
    "# RMSE for sklearn model\n",
    "def k_rmse(X_train,Y_train,X_test,Y_test):\n",
    "    rmse = []\n",
    "    k = [1,2,3,4,5,10,15,20,25,30,35,40,45,50,55,60,80,100,120,140,160,180,200]\n",
    "    for i in k:\n",
    "        case = KNeighborsRegressor(i)   \n",
    "        case.fit(X_train,Y_train)\n",
    "        case_y_predict = case.predict(X_test)       \n",
    "        rmse.append(RMSE(around(case_y_predict),Y_test))\n",
    "    return rmse"
   ]
  },
  {
   "cell_type": "code",
   "execution_count": 95,
   "metadata": {},
   "outputs": [],
   "source": [
    "# case1 for standardized data using sklearn\n",
    "case1 = k_rmse(X_train,Y_train,X_test,Y_test)"
   ]
  },
  {
   "cell_type": "code",
   "execution_count": 96,
   "metadata": {},
   "outputs": [],
   "source": [
    "# import the unstandardized data again\n",
    "X_train_2 = df['X_train']\n",
    "X_test_2 = df['X_test']\n",
    "\n",
    "# case2 for unstandardized data using sklearn\n",
    "case2 = k_rmse(X_train_2,Y_train,X_test_2,Y_test)"
   ]
  },
  {
   "cell_type": "code",
   "execution_count": 97,
   "metadata": {},
   "outputs": [],
   "source": [
    "# case3 for myknn_regressor\n",
    "k = [1,2,3,4,5,10,15,20,25,30,35,40,45,50,55,60,80,100,120,140,160,180,200]\n",
    "rmse = []\n",
    "for i in k:    \n",
    "    myknn = myknn_regressor(i,'remove_outliers')\n",
    "    myknn.fit(X_train, Y_train)\n",
    "    ypred = myknn.predict(X_test)\n",
    "    rmse.append(RMSE(ypred,Y_test))\n",
    "\n",
    "case3 = rmse    "
   ]
  },
  {
   "cell_type": "code",
   "execution_count": 98,
   "metadata": {},
   "outputs": [
    {
     "data": {
      "text/plain": [
       "<matplotlib.legend.Legend at 0x14bbbb750>"
      ]
     },
     "execution_count": 98,
     "metadata": {},
     "output_type": "execute_result"
    },
    {
     "data": {
      "image/png": "[encoded data removed]",
      "text/plain": [
       "<Figure size 432x288 with 1 Axes>"
      ]
     },
     "metadata": {
      "needs_background": "light"
     },
     "output_type": "display_data"
    }
   ],
   "source": [
    "# Plot the RMSE outcome \n",
    "fig,ax = plt.subplots()\n",
    "ax.set_xlabel('K')\n",
    "ax.set_ylabel('RMSE')\n",
    "ax.plot(k,case1,'b.-',label = 'case1')\n",
    "ax.plot(k,case2,'g.-',label = 'case2')\n",
    "ax.plot(k,case3,'r.-',label = 'case3')\n",
    "ax.legend()"
   ]
  },
  {
   "cell_type": "markdown",
   "metadata": {},
   "source": [
    "### Conclusion"
   ]
  },
  {
   "cell_type": "markdown",
   "metadata": {},
   "source": [
    "1. When the k value is less than 20, the performance of the sklearn model is comparable to myknn regressor using removal of outliers, or even better; however, when k is greater than 25, it's clear that the RMSE decrease of myknn is better than sklearn. The RMSE reaches the minimum when k value is 55.\n",
    "2. The data run with sklearn is far more efficient than the brute force method, but the RMSE value is larger and the accuracy is lower than myknn regressor, which shows that the method of removing outliers is quite effective.\n",
    "3. When k value of the sklearn model is greater than 60, the RMSE value slightly increases, so the choice of k should not be too large for this dataset."
   ]
  }
 ],
 "metadata": {
  "kernelspec": {
   "display_name": "Python 3 (ipykernel)",
   "language": "python",
   "name": "python3"
  },
  "language_info": {
   "codemirror_mode": {
    "name": "ipython",
    "version": 3
   },
   "file_extension": ".py",
   "mimetype": "text/x-python",
   "name": "python",
   "nbconvert_exporter": "python",
   "pygments_lexer": "ipython3",
   "version": "3.11.5"
  },
  "widgets": {
   "application/vnd.jupyter.widget-state+json": {
    "state": {},
    "version_major": 2,
    "version_minor": 0
   }
  }
 },
 "nbformat": 4,
 "nbformat_minor": 4
}
